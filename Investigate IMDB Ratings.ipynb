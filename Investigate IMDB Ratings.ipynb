{
 "cells": [
  {
   "cell_type": "code",
   "execution_count": 33,
   "id": "revolutionary-annotation",
   "metadata": {},
   "outputs": [],
   "source": [
    "import pandas as pd\n",
    "from bs4 import BeautifulSoup\n",
    "from requests import get\n",
    "from time import sleep"
   ]
  },
  {
   "attachments": {},
   "cell_type": "markdown",
   "id": "93c1ec7d",
   "metadata": {},
   "source": [
    "## Provide an IMDB series ID"
   ]
  },
  {
   "cell_type": "code",
   "execution_count": 34,
   "id": "3957feea",
   "metadata": {},
   "outputs": [],
   "source": [
    "# the series id is found in the url of an IMDB link: https://www.imdb.com/title/tt0141842/\n",
    "# in this case it is tt0141842 for the Sopranos\n",
    "series_id = input('Please Provide an IMDB Series ID:  ')"
   ]
  },
  {
   "attachments": {},
   "cell_type": "markdown",
   "id": "ad101efb",
   "metadata": {},
   "source": [
    "## Get the amount of seasons for a certain series ID"
   ]
  },
  {
   "cell_type": "code",
   "execution_count": 35,
   "id": "85de9de2",
   "metadata": {},
   "outputs": [],
   "source": [
    "imbd_link = f'https://www.imdb.com/title/{series_id}/episodes'\n",
    "response = get(imbd_link)\n",
    "soup = BeautifulSoup(response.content)\n",
    "\n",
    "try:\n",
    "    amount_of_seasons = int(soup.findAll('select',{'id':'bySeason'})[0].findAll('option')[-1].string.split()[0])\n",
    "except:\n",
    "    amount_of_seasons = int(soup.findAll('select',{'id':'bySeason'})[0].findAll('option')[-2].string.split()[0])"
   ]
  },
  {
   "cell_type": "code",
   "execution_count": 36,
   "id": "documented-choir",
   "metadata": {},
   "outputs": [
    {
     "name": "stdout",
     "output_type": "stream",
     "text": [
      "Estimated run time: 60\n",
      "Total scraped episodes:\n",
      "    85\n"
     ]
    }
   ],
   "source": [
    "print(f'Estimated run time: {10*amount_of_seasons}')\n",
    "\n",
    "colors = ['black','salmon','lightgreen',\n",
    "         'cyan','crimson','rebeccapurple',\n",
    "         'orange','forestgreen','red']\n",
    "\n",
    "df = pd.DataFrame(columns=['Title','Rating','Color','Season'])\n",
    "\n",
    "color_count = 0\n",
    "for season in range(1,amount_of_seasons+1):\n",
    "    \n",
    "    color = colors[color_count]\n",
    "\n",
    "    color_count += 1\n",
    "    \n",
    "    imbd_link = f'https://www.imdb.com/title/{series_id}/episodes?season={season}'\n",
    "    response = get(imbd_link)\n",
    "    soup = BeautifulSoup(response.content)\n",
    "    \n",
    "    def scrape_data(class_name):\n",
    "        for episode in soup.findAll('div',{'class':class_name}):    \n",
    "            try:\n",
    "                episode_rating = float(episode.find('span',{'class':'ipl-rating-star__rating'}).text)\n",
    "                episode_airdate = pd.to_datetime(episode.find('div',{'class':'airdate'}).string)\n",
    "                episode_title = episode.find('a',{'itemprop':'name'}).text\n",
    "\n",
    "                df.loc[episode_airdate] = episode_title, episode_rating,color,f'Season {season}'\n",
    "\n",
    "            except:\n",
    "                pass\n",
    "\n",
    "    scrape_data('list_item even')\n",
    "    scrape_data('list_item odd')\n",
    "    \n",
    "    sleep(10)\n",
    "\n",
    "print('Total scraped episodes:')\n",
    "print(f'    {len(df)}')"
   ]
  },
  {
   "attachments": {},
   "cell_type": "markdown",
   "id": "fb89c922",
   "metadata": {},
   "source": [
    "## Top ten highest rated episodes"
   ]
  },
  {
   "cell_type": "code",
   "execution_count": 37,
   "id": "seasonal-louisiana",
   "metadata": {},
   "outputs": [
    {
     "data": {
      "text/html": [
       "<div>\n",
       "<style scoped>\n",
       "    .dataframe tbody tr th:only-of-type {\n",
       "        vertical-align: middle;\n",
       "    }\n",
       "\n",
       "    .dataframe tbody tr th {\n",
       "        vertical-align: top;\n",
       "    }\n",
       "\n",
       "    .dataframe thead th {\n",
       "        text-align: right;\n",
       "    }\n",
       "</style>\n",
       "<table border=\"1\" class=\"dataframe\">\n",
       "  <thead>\n",
       "    <tr style=\"text-align: right;\">\n",
       "      <th></th>\n",
       "      <th>Title</th>\n",
       "      <th>Rating</th>\n",
       "      <th>Season</th>\n",
       "    </tr>\n",
       "  </thead>\n",
       "  <tbody>\n",
       "    <tr>\n",
       "      <th>2001-05-06</th>\n",
       "      <td>Pine Barrens</td>\n",
       "      <td>9.7</td>\n",
       "      <td>Season 3</td>\n",
       "    </tr>\n",
       "    <tr>\n",
       "      <th>2004-05-23</th>\n",
       "      <td>Long Term Parking</td>\n",
       "      <td>9.6</td>\n",
       "      <td>Season 5</td>\n",
       "    </tr>\n",
       "    <tr>\n",
       "      <th>2007-06-03</th>\n",
       "      <td>The Blue Comet</td>\n",
       "      <td>9.6</td>\n",
       "      <td>Season 6</td>\n",
       "    </tr>\n",
       "    <tr>\n",
       "      <th>2000-04-09</th>\n",
       "      <td>Funhouse</td>\n",
       "      <td>9.4</td>\n",
       "      <td>Season 2</td>\n",
       "    </tr>\n",
       "    <tr>\n",
       "      <th>2007-06-10</th>\n",
       "      <td>Made in America</td>\n",
       "      <td>9.3</td>\n",
       "      <td>Season 6</td>\n",
       "    </tr>\n",
       "    <tr>\n",
       "      <th>2002-11-10</th>\n",
       "      <td>Whoever Did This</td>\n",
       "      <td>9.3</td>\n",
       "      <td>Season 4</td>\n",
       "    </tr>\n",
       "    <tr>\n",
       "      <th>2000-04-02</th>\n",
       "      <td>The Knight in White Satin Armor</td>\n",
       "      <td>9.3</td>\n",
       "      <td>Season 2</td>\n",
       "    </tr>\n",
       "    <tr>\n",
       "      <th>2004-06-06</th>\n",
       "      <td>All Due Respect</td>\n",
       "      <td>9.3</td>\n",
       "      <td>Season 5</td>\n",
       "    </tr>\n",
       "    <tr>\n",
       "      <th>2001-05-13</th>\n",
       "      <td>Amour Fou</td>\n",
       "      <td>9.2</td>\n",
       "      <td>Season 3</td>\n",
       "    </tr>\n",
       "    <tr>\n",
       "      <th>2002-12-08</th>\n",
       "      <td>Whitecaps</td>\n",
       "      <td>9.2</td>\n",
       "      <td>Season 4</td>\n",
       "    </tr>\n",
       "  </tbody>\n",
       "</table>\n",
       "</div>"
      ],
      "text/plain": [
       "                                      Title  Rating    Season\n",
       "2001-05-06                     Pine Barrens     9.7  Season 3\n",
       "2004-05-23                Long Term Parking     9.6  Season 5\n",
       "2007-06-03                   The Blue Comet     9.6  Season 6\n",
       "2000-04-09                         Funhouse     9.4  Season 2\n",
       "2007-06-10                  Made in America     9.3  Season 6\n",
       "2002-11-10                 Whoever Did This     9.3  Season 4\n",
       "2000-04-02  The Knight in White Satin Armor     9.3  Season 2\n",
       "2004-06-06                  All Due Respect     9.3  Season 5\n",
       "2001-05-13                        Amour Fou     9.2  Season 3\n",
       "2002-12-08                        Whitecaps     9.2  Season 4"
      ]
     },
     "execution_count": 37,
     "metadata": {},
     "output_type": "execute_result"
    }
   ],
   "source": [
    "df.sort_values('Rating',ascending=False)[['Title','Rating','Season']][:10]"
   ]
  },
  {
   "attachments": {},
   "cell_type": "markdown",
   "id": "1c839bd6",
   "metadata": {},
   "source": [
    "## Top ten lowest rated episodes"
   ]
  },
  {
   "cell_type": "code",
   "execution_count": 38,
   "id": "incorporated-blues",
   "metadata": {},
   "outputs": [
    {
     "data": {
      "text/html": [
       "<div>\n",
       "<style scoped>\n",
       "    .dataframe tbody tr th:only-of-type {\n",
       "        vertical-align: middle;\n",
       "    }\n",
       "\n",
       "    .dataframe tbody tr th {\n",
       "        vertical-align: top;\n",
       "    }\n",
       "\n",
       "    .dataframe thead th {\n",
       "        text-align: right;\n",
       "    }\n",
       "</style>\n",
       "<table border=\"1\" class=\"dataframe\">\n",
       "  <thead>\n",
       "    <tr style=\"text-align: right;\">\n",
       "      <th></th>\n",
       "      <th>Title</th>\n",
       "      <th>Rating</th>\n",
       "      <th>Season</th>\n",
       "    </tr>\n",
       "  </thead>\n",
       "  <tbody>\n",
       "    <tr>\n",
       "      <th>2002-09-29</th>\n",
       "      <td>Christopher</td>\n",
       "      <td>7.8</td>\n",
       "      <td>Season 4</td>\n",
       "    </tr>\n",
       "    <tr>\n",
       "      <th>1999-03-14</th>\n",
       "      <td>A Hit Is a Hit</td>\n",
       "      <td>7.9</td>\n",
       "      <td>Season 1</td>\n",
       "    </tr>\n",
       "    <tr>\n",
       "      <th>2004-04-18</th>\n",
       "      <td>In Camelot</td>\n",
       "      <td>7.9</td>\n",
       "      <td>Season 5</td>\n",
       "    </tr>\n",
       "    <tr>\n",
       "      <th>2007-04-29</th>\n",
       "      <td>Chasing It</td>\n",
       "      <td>7.9</td>\n",
       "      <td>Season 6</td>\n",
       "    </tr>\n",
       "    <tr>\n",
       "      <th>2002-11-24</th>\n",
       "      <td>Calling All Cars</td>\n",
       "      <td>8.0</td>\n",
       "      <td>Season 4</td>\n",
       "    </tr>\n",
       "    <tr>\n",
       "      <th>2000-01-23</th>\n",
       "      <td>Do Not Resuscitate</td>\n",
       "      <td>8.0</td>\n",
       "      <td>Season 2</td>\n",
       "    </tr>\n",
       "    <tr>\n",
       "      <th>2002-10-13</th>\n",
       "      <td>Pie-o-My</td>\n",
       "      <td>8.1</td>\n",
       "      <td>Season 4</td>\n",
       "    </tr>\n",
       "    <tr>\n",
       "      <th>2002-10-27</th>\n",
       "      <td>Watching Too Much Television</td>\n",
       "      <td>8.1</td>\n",
       "      <td>Season 4</td>\n",
       "    </tr>\n",
       "    <tr>\n",
       "      <th>2006-05-14</th>\n",
       "      <td>Moe n' Joe</td>\n",
       "      <td>8.1</td>\n",
       "      <td>Season 6</td>\n",
       "    </tr>\n",
       "    <tr>\n",
       "      <th>2001-04-22</th>\n",
       "      <td>The Telltale Moozadell</td>\n",
       "      <td>8.1</td>\n",
       "      <td>Season 3</td>\n",
       "    </tr>\n",
       "  </tbody>\n",
       "</table>\n",
       "</div>"
      ],
      "text/plain": [
       "                                   Title  Rating    Season\n",
       "2002-09-29                   Christopher     7.8  Season 4\n",
       "1999-03-14                A Hit Is a Hit     7.9  Season 1\n",
       "2004-04-18                    In Camelot     7.9  Season 5\n",
       "2007-04-29                    Chasing It     7.9  Season 6\n",
       "2002-11-24              Calling All Cars     8.0  Season 4\n",
       "2000-01-23            Do Not Resuscitate     8.0  Season 2\n",
       "2002-10-13                      Pie-o-My     8.1  Season 4\n",
       "2002-10-27  Watching Too Much Television     8.1  Season 4\n",
       "2006-05-14                    Moe n' Joe     8.1  Season 6\n",
       "2001-04-22        The Telltale Moozadell     8.1  Season 3"
      ]
     },
     "execution_count": 38,
     "metadata": {},
     "output_type": "execute_result"
    }
   ],
   "source": [
    "df.sort_values('Rating',ascending=True)[['Title','Rating','Season']][:10]"
   ]
  },
  {
   "attachments": {},
   "cell_type": "markdown",
   "id": "66ef8ac9",
   "metadata": {},
   "source": [
    "## Plotting episode ratings vs time"
   ]
  },
  {
   "cell_type": "code",
   "execution_count": 39,
   "id": "alpha-marriage",
   "metadata": {},
   "outputs": [
    {
     "data": {
      "text/plain": [
       "<Axes: title={'center': 'Episode Ratings vs Time'}, xlabel='Year', ylabel='Rating'>"
      ]
     },
     "execution_count": 39,
     "metadata": {},
     "output_type": "execute_result"
    },
    {
     "data": {
      "image/png": "[encoded data removed]",
      "text/plain": [
       "<Figure size 1500x400 with 1 Axes>"
      ]
     },
     "metadata": {},
     "output_type": "display_data"
    }
   ],
   "source": [
    "df.reset_index().plot.scatter(x = 'index', y = 'Rating',c='Color',grid=True,ylim=[round(df['Rating'].min()-3),10],figsize=[15,4],title='Episode Ratings vs Time',xlabel='Year')"
   ]
  },
  {
   "attachments": {},
   "cell_type": "markdown",
   "id": "51dd5046",
   "metadata": {},
   "source": [
    "## Highest rated seasons"
   ]
  },
  {
   "cell_type": "code",
   "execution_count": 40,
   "id": "limiting-palestinian",
   "metadata": {},
   "outputs": [
    {
     "data": {
      "text/plain": [
       "Season\n",
       "Season 3    8.716667\n",
       "Season 6    8.685714\n",
       "Season 5    8.684615\n",
       "Season 2    8.600000\n",
       "Season 1    8.592308\n",
       "Name: Rating, dtype: float64"
      ]
     },
     "execution_count": 40,
     "metadata": {},
     "output_type": "execute_result"
    }
   ],
   "source": [
    "df.groupby('Season')['Rating'].mean().sort_values(ascending=False)[:5]"
   ]
  }
 ],
 "metadata": {
  "kernelspec": {
   "display_name": "Python 3",
   "language": "python",
   "name": "python3"
  },
  "language_info": {
   "codemirror_mode": {
    "name": "ipython",
    "version": 3
   },
   "file_extension": ".py",
   "mimetype": "text/x-python",
   "name": "python",
   "nbconvert_exporter": "python",
   "pygments_lexer": "ipython3",
   "version": "3.10.9"
  },
  "vscode": {
   "interpreter": {
    "hash": "5ee6f23f9c4d80c203dea4faa6a5d0c8cffa4ab65b221251ea7227320f350d1e"
   }
  }
 },
 "nbformat": 4,
 "nbformat_minor": 5
}
